{
 "cells": [
  {
   "cell_type": "code",
   "execution_count": 1,
   "metadata": {},
   "outputs": [],
   "source": [
    "import numpy as np"
   ]
  },
  {
   "cell_type": "code",
   "execution_count": 2,
   "metadata": {},
   "outputs": [
    {
     "name": "stdout",
     "output_type": "stream",
     "text": [
      "Help on built-in function len in module builtins:\n",
      "\n",
      "len(obj, /)\n",
      "    Return the number of items in a container.\n",
      "\n"
     ]
    }
   ],
   "source": [
    "help(len)"
   ]
  },
  {
   "cell_type": "code",
   "execution_count": 3,
   "metadata": {},
   "outputs": [],
   "source": [
    "len?"
   ]
  },
  {
   "cell_type": "code",
   "execution_count": 5,
   "metadata": {},
   "outputs": [
    {
     "name": "stdout",
     "output_type": "stream",
     "text": [
      "3\n"
     ]
    }
   ],
   "source": [
    "L = [1,2,3]\n",
    "print(len(L) )"
   ]
  },
  {
   "cell_type": "code",
   "execution_count": 6,
   "metadata": {},
   "outputs": [],
   "source": [
    "np?"
   ]
  },
  {
   "cell_type": "code",
   "execution_count": 8,
   "metadata": {},
   "outputs": [
    {
     "name": "stdout",
     "output_type": "stream",
     "text": [
      "[0, 1, 2, 3, 4, 5, 6, 7, 8, 9] ['0', '1', '2', '3', '4', '5', '6', '7', '8', '9'] [True, '2', 3, 5]\n"
     ]
    }
   ],
   "source": [
    "# data typy in numpy\n",
    "L = list(range(10))\n",
    "L1 = [str(c) for c in L]\n",
    "L2 = [True, \"2\", 3, 5]## element in list can have different data types\n",
    "print(L, L1, L2)"
   ]
  },
  {
   "cell_type": "code",
   "execution_count": 10,
   "metadata": {},
   "outputs": [
    {
     "name": "stdout",
     "output_type": "stream",
     "text": [
      "numpy array A is:  array('i', [0, 1, 2, 3, 4, 5, 6, 7, 8, 9])\n",
      "List L is:  [0, 1, 2, 3, 4, 5, 6, 7, 8, 9]\n",
      "Integer Array:  [1 3 5 6]\n",
      "Float Array:   [1.1 3.  5.  6. ]\n",
      "Float Array:   [0. 1. 2. 3. 4. 5. 6. 7. 8. 9.]\n"
     ]
    }
   ],
   "source": [
    "# fixed data-type in array of numpy\n",
    "import array\n",
    "A = array.array('i', L)\n",
    "print ('numpy array A is: ', A)\n",
    "print ('List L is: ', L)\n",
    "\n",
    "# integer array\n",
    "print ('Integer Array: ', np.array([1, 3, 5, 6]))\n",
    "\n",
    "# float array\n",
    "print ('Float Array:  ', np.array([1.1, 3, 5, 6]))\n",
    "print ('Float Array:  ', np.array(L, dtype = 'float32'))"
   ]
  },
  {
   "cell_type": "code",
   "execution_count": 11,
   "metadata": {},
   "outputs": [
    {
     "name": "stdout",
     "output_type": "stream",
     "text": [
      "Array a1 is: \n",
      " [[ 4  5  6]\n",
      " [ 7  8  9]\n",
      " [ 9 10 11]]\n",
      "(3, 3)\n",
      "the first row  [4 5 6]\n",
      "the first column  [4 7 9]\n",
      "the last row  [ 9 10 11]\n",
      "the last column  [ 6  9 11]\n"
     ]
    }
   ],
   "source": [
    "# nested lists result in multidimensional arrays\n",
    "a1 = np.array([range(i, i+3) for i in [4, 7, 9]])\n",
    "print ('Array a1 is: \\n', a1)\n",
    "print (a1.shape)\n",
    "print ('the first row ', a1[0])\n",
    "print ('the first column ', a1[:,0])\n",
    "print ('the last row ', a1[-1])\n",
    "print ('the last column ', a1[:, -1])"
   ]
  },
  {
   "cell_type": "code",
   "execution_count": 12,
   "metadata": {},
   "outputs": [
    {
     "name": "stdout",
     "output_type": "stream",
     "text": [
      "[0 0 0 0 0 0 0 0 0 0] \n",
      "\n"
     ]
    },
    {
     "data": {
      "text/plain": [
       "array([0, 0, 0, 0, 0, 0, 0, 0, 0, 0])"
      ]
     },
     "execution_count": 12,
     "metadata": {},
     "output_type": "execute_result"
    }
   ],
   "source": [
    "# creating numpy array from scratch\n",
    "\n",
    "# create 1-dimension array with 10 zeros\n",
    "myzeros = np.zeros(10, dtype = int)\n",
    "print (myzeros, '\\n')\n",
    "\n",
    "np.zeros(10, dtype = int)"
   ]
  },
  {
   "cell_type": "code",
   "execution_count": 13,
   "metadata": {},
   "outputs": [
    {
     "name": "stdout",
     "output_type": "stream",
     "text": [
      "[[1. 1. 1. 1. 1.]\n",
      " [1. 1. 1. 1. 1.]\n",
      " [1. 1. 1. 1. 1.]] \n",
      "\n"
     ]
    },
    {
     "data": {
      "text/plain": [
       "array([[1., 1., 1., 1., 1.],\n",
       "       [1., 1., 1., 1., 1.],\n",
       "       [1., 1., 1., 1., 1.]])"
      ]
     },
     "execution_count": 13,
     "metadata": {},
     "output_type": "execute_result"
    }
   ],
   "source": [
    "# create 2-dimension array with 3x5  float ones\n",
    "myones = np.ones((3, 5), dtype = float)\n",
    "print (myones, '\\n')\n",
    "\n",
    "np.ones((3, 5), dtype = float)"
   ]
  },
  {
   "cell_type": "code",
   "execution_count": 14,
   "metadata": {},
   "outputs": [
    {
     "name": "stdout",
     "output_type": "stream",
     "text": [
      "[[3.14 3.14 3.14 3.14 3.14]\n",
      " [3.14 3.14 3.14 3.14 3.14]\n",
      " [3.14 3.14 3.14 3.14 3.14]] \n",
      "\n"
     ]
    },
    {
     "data": {
      "text/plain": [
       "array([[3.14, 3.14, 3.14, 3.14, 3.14],\n",
       "       [3.14, 3.14, 3.14, 3.14, 3.14],\n",
       "       [3.14, 3.14, 3.14, 3.14, 3.14]])"
      ]
     },
     "execution_count": 14,
     "metadata": {},
     "output_type": "execute_result"
    }
   ],
   "source": [
    "# create a 3x5 array filled with 3.14\n",
    "mypi = np.full((3, 5), 3.14)\n",
    "print (mypi, '\\n')\n",
    "\n",
    "np.full((3, 5), 3.14)"
   ]
  },
  {
   "cell_type": "code",
   "execution_count": 15,
   "metadata": {},
   "outputs": [
    {
     "name": "stdout",
     "output_type": "stream",
     "text": [
      "np.arange(0, 20, 2) is \n",
      " [ 0  2  4  6  8 10 12 14 16 18]\n",
      "shape is \t (10,) \n",
      "\n"
     ]
    },
    {
     "data": {
      "text/plain": [
       "array([ 0,  2,  4,  6,  8, 10, 12, 14, 16, 18])"
      ]
     },
     "execution_count": 15,
     "metadata": {},
     "output_type": "execute_result"
    }
   ],
   "source": [
    "# create an array filled with a linear sequence in range [0, 20), step-size = 2\n",
    "# this is similar to range()\n",
    "myRangeArr = np.arange(0, 20, 2)\n",
    "print ('np.arange(0, 20, 2) is \\n', myRangeArr)\n",
    "print ('shape is \\t', myRangeArr.shape, '\\n')\n",
    "\n",
    "np.arange(0, 20, 2)"
   ]
  },
  {
   "cell_type": "code",
   "execution_count": 16,
   "metadata": {},
   "outputs": [
    {
     "name": "stdout",
     "output_type": "stream",
     "text": [
      "range(0, 20, 2) is \n",
      " range(0, 20, 2)\n",
      "length of list is \t 10 \n",
      "\n"
     ]
    },
    {
     "data": {
      "text/plain": [
       "range(0, 20, 2)"
      ]
     },
     "execution_count": 16,
     "metadata": {},
     "output_type": "execute_result"
    }
   ],
   "source": [
    "print ('range(0, 20, 2) is \\n', range(0, 20, 2))\n",
    "print ('length of list is \\t', len(range(0, 20, 2)), '\\n')\n",
    "\n",
    "range(0, 20, 2)"
   ]
  },
  {
   "cell_type": "code",
   "execution_count": 17,
   "metadata": {},
   "outputs": [
    {
     "name": "stdout",
     "output_type": "stream",
     "text": [
      "np.linspace(0, 1, 5) is \n",
      " [0.   0.25 0.5  0.75 1.  ]\n",
      "\n",
      "\n"
     ]
    },
    {
     "data": {
      "text/plain": [
       "array([0.        , 0.11111111, 0.22222222, 0.33333333, 0.44444444,\n",
       "       0.55555556, 0.66666667, 0.77777778, 0.88888889, 1.        ])"
      ]
     },
     "execution_count": 17,
     "metadata": {},
     "output_type": "execute_result"
    }
   ],
   "source": [
    "# create an array of 5 values evenly spaced between 0 and 1\n",
    "print ('np.linspace(0, 1, 5) is \\n', np.linspace(0, 1, 5))\n",
    "print ('\\n')\n",
    "\n",
    "np.linspace(0, 1, 10)"
   ]
  },
  {
   "cell_type": "code",
   "execution_count": 18,
   "metadata": {},
   "outputs": [
    {
     "data": {
      "text/plain": [
       "array([[0.3306203 , 0.11383595, 0.27148394],\n",
       "       [0.36078527, 0.02983777, 0.57729848],\n",
       "       [0.49078413, 0.12063836, 0.50062419]])"
      ]
     },
     "execution_count": 18,
     "metadata": {},
     "output_type": "execute_result"
    }
   ],
   "source": [
    "# create a 3x3 array of uniform distributed random values between 0 and 1\n",
    "np.random.random((3,3))"
   ]
  },
  {
   "cell_type": "code",
   "execution_count": 19,
   "metadata": {},
   "outputs": [
    {
     "data": {
      "text/plain": [
       "array([[ 1.55683291, -0.68741446,  0.6315123 ,  0.64297329],\n",
       "       [ 0.51802468,  0.46777536,  2.00461784,  0.31238579],\n",
       "       [-0.57513514,  0.33270312,  0.69895495,  1.14283339]])"
      ]
     },
     "execution_count": 19,
     "metadata": {},
     "output_type": "execute_result"
    }
   ],
   "source": [
    "# create a 3x4 array of normal distributed random values with mean = 0, standard deviation = 1\n",
    "np.random.normal(0, 1, (3,4))"
   ]
  },
  {
   "cell_type": "code",
   "execution_count": 20,
   "metadata": {},
   "outputs": [
    {
     "data": {
      "text/plain": [
       "array([[7, 9, 5, 6],\n",
       "       [2, 5, 4, 1],\n",
       "       [0, 0, 0, 4]])"
      ]
     },
     "execution_count": 20,
     "metadata": {},
     "output_type": "execute_result"
    }
   ],
   "source": [
    "# create a 3x4 array of random integers in the interval [0, 10)\n",
    "np.random.randint(0, 10, (3,4))"
   ]
  },
  {
   "cell_type": "code",
   "execution_count": 21,
   "metadata": {},
   "outputs": [
    {
     "data": {
      "text/plain": [
       "array([[1., 0., 0.],\n",
       "       [0., 1., 0.],\n",
       "       [0., 0., 1.]])"
      ]
     },
     "execution_count": 21,
     "metadata": {},
     "output_type": "execute_result"
    }
   ],
   "source": [
    "## create a 3x3 identity matrix\n",
    "n = 3\n",
    "np.eye(n)"
   ]
  },
  {
   "cell_type": "code",
   "execution_count": 22,
   "metadata": {},
   "outputs": [
    {
     "name": "stdout",
     "output_type": "stream",
     "text": [
      "np.empty(3) is \n",
      " [1. 1. 1.] \n",
      "\n",
      "np.empty(3, dtype = int) is \n",
      " [16843009 16843009 16843009] \n",
      "\n",
      "np.empty(3, dtype = 'float32') is \n",
      " [2.3694278e-38 2.3694278e-38 2.3694278e-38] \n",
      "\n"
     ]
    },
    {
     "data": {
      "text/plain": [
       "array([[1.55683291, 0.68741446, 0.6315123 , 0.64297329],\n",
       "       [0.51802468, 0.46777536, 2.00461784, 0.31238579],\n",
       "       [0.57513514, 0.33270312, 0.69895495, 1.14283339]])"
      ]
     },
     "execution_count": 22,
     "metadata": {},
     "output_type": "execute_result"
    }
   ],
   "source": [
    "## create an uninitialized array with 3 integers\n",
    "## the values will be whatever happens to already exist at that memory locaiton\n",
    "print ('np.empty(3) is \\n', np.empty(3), '\\n')\n",
    "print ('np.empty(3, dtype = int) is \\n' , np.empty(3, dtype = int), '\\n')\n",
    "print ('np.empty(3, dtype = \\'float32\\') is \\n', np.empty(3, dtype = 'float32'), '\\n')\n",
    "\n",
    "np.empty((3,4))"
   ]
  },
  {
   "cell_type": "code",
   "execution_count": 23,
   "metadata": {},
   "outputs": [
    {
     "data": {
      "text/plain": [
       "array([0, 0, 0, 0, 0], dtype=int8)"
      ]
     },
     "execution_count": 23,
     "metadata": {},
     "output_type": "execute_result"
    }
   ],
   "source": [
    "np.zeros(5, dtype = 'int8')"
   ]
  },
  {
   "cell_type": "code",
   "execution_count": 24,
   "metadata": {},
   "outputs": [
    {
     "data": {
      "text/plain": [
       "array([0, 0, 0, 0, 0], dtype=int16)"
      ]
     },
     "execution_count": 24,
     "metadata": {},
     "output_type": "execute_result"
    }
   ],
   "source": [
    "np.zeros(5, dtype = 'int16')"
   ]
  },
  {
   "cell_type": "code",
   "execution_count": 25,
   "metadata": {},
   "outputs": [
    {
     "data": {
      "text/plain": [
       "array([0, 0, 0, 0, 0])"
      ]
     },
     "execution_count": 25,
     "metadata": {},
     "output_type": "execute_result"
    }
   ],
   "source": [
    "np.zeros(5, dtype = 'int32')"
   ]
  },
  {
   "cell_type": "code",
   "execution_count": 26,
   "metadata": {},
   "outputs": [
    {
     "data": {
      "text/plain": [
       "array([0, 0, 0, 0, 0], dtype=int64)"
      ]
     },
     "execution_count": 26,
     "metadata": {},
     "output_type": "execute_result"
    }
   ],
   "source": [
    "np.zeros(5, dtype = 'int64')"
   ]
  },
  {
   "cell_type": "code",
   "execution_count": 27,
   "metadata": {},
   "outputs": [
    {
     "data": {
      "text/plain": [
       "array([0, 0, 0, 0, 0])"
      ]
     },
     "execution_count": 27,
     "metadata": {},
     "output_type": "execute_result"
    }
   ],
   "source": [
    "np.zeros(5, dtype = np.int)"
   ]
  },
  {
   "cell_type": "code",
   "execution_count": 28,
   "metadata": {},
   "outputs": [
    {
     "data": {
      "text/plain": [
       "array([0., 0., 0., 0., 0.])"
      ]
     },
     "execution_count": 28,
     "metadata": {},
     "output_type": "execute_result"
    }
   ],
   "source": [
    "np.zeros(5, dtype = float)"
   ]
  },
  {
   "cell_type": "code",
   "execution_count": 29,
   "metadata": {},
   "outputs": [
    {
     "data": {
      "text/plain": [
       "array([0., 0., 0., 0., 0.])"
      ]
     },
     "execution_count": 29,
     "metadata": {},
     "output_type": "execute_result"
    }
   ],
   "source": [
    "np.zeros(5, dtype = np.float)"
   ]
  },
  {
   "cell_type": "code",
   "execution_count": 30,
   "metadata": {},
   "outputs": [
    {
     "data": {
      "text/plain": [
       "array([1., 1., 1., 1., 1.])"
      ]
     },
     "execution_count": 30,
     "metadata": {},
     "output_type": "execute_result"
    }
   ],
   "source": [
    "np.ones(5, dtype = 'float_')"
   ]
  },
  {
   "cell_type": "code",
   "execution_count": 31,
   "metadata": {},
   "outputs": [
    {
     "data": {
      "text/plain": [
       "array([1., 1., 1., 1., 1.])"
      ]
     },
     "execution_count": 31,
     "metadata": {},
     "output_type": "execute_result"
    }
   ],
   "source": [
    "np.ones(5, dtype = 'float64')"
   ]
  },
  {
   "cell_type": "code",
   "execution_count": 32,
   "metadata": {},
   "outputs": [
    {
     "name": "stdout",
     "output_type": "stream",
     "text": [
      "x1 is \n",
      " [5 0 3 3 7 9] \n",
      "\n",
      "x2 is \n",
      " [[13 15 12 14 17]\n",
      " [16 18 18 11 16]\n",
      " [17 17 18 11 15]] \n",
      "\n",
      "x3 is \n",
      " [[[19 18 19 14 13]\n",
      "  [10 13 15 10 12]\n",
      "  [13 18 11 13 13]]\n",
      "\n",
      " [[13 17 10 11 19]\n",
      "  [19 10 14 17 13]\n",
      "  [12 17 12 10 10]]] \n",
      "\n",
      "x1 dimension is \t 1\n",
      "x3 dimension is \t 3\n",
      "x3 shape is \t (2, 3, 5)\n",
      "x3 size is \t 30\n",
      "x3 data type is \t int32\n",
      "x3 item size is \t 4 bytes\n",
      "x3 nbytes is \t 120 bytes\n"
     ]
    }
   ],
   "source": [
    "# create multiple random values with the same seed\n",
    "np.random.seed(0)\n",
    "\n",
    "x1 = np.random.randint(10, size = 6)      # create random integer in range [0, 10)\n",
    "x2 = np.random.randint(10, 20, size = (3, 5))  # create random integer in range [10, 20)\n",
    "x3 = np.random.randint(10, 20, size = (2, 3, 5))\n",
    "\n",
    "print ('x1 is \\n', x1, '\\n')\n",
    "print ('x2 is \\n', x2, '\\n')\n",
    "print ('x3 is \\n', x3, '\\n')\n",
    "print ('x1 dimension is \\t', x1.ndim)\n",
    "print ('x3 dimension is \\t', x3.ndim)\n",
    "print ('x3 shape is \\t', x3.shape)\n",
    "print ('x3 size is \\t', x3.size)\n",
    "print ('x3 data type is \\t', x3.dtype)\n",
    "print ('x3 item size is \\t', x3.itemsize, 'bytes')\n",
    "print ('x3 nbytes is \\t', x3.nbytes, 'bytes')"
   ]
  },
  {
   "cell_type": "code",
   "execution_count": 33,
   "metadata": {},
   "outputs": [],
   "source": [
    "# get help of this fucntion\n",
    "? np.random.randint"
   ]
  },
  {
   "cell_type": "code",
   "execution_count": 34,
   "metadata": {},
   "outputs": [
    {
     "name": "stdout",
     "output_type": "stream",
     "text": [
      "x3[0] is \n",
      " [[19 18 19 14 13]\n",
      " [10 13 15 10 12]\n",
      " [13 18 11 13 13]] \n",
      "\n",
      "x3[0, 0] is \n",
      " [19 18 19 14 13] \n",
      "\n",
      "x3[0, 0, 0] is \n",
      " 19 \n",
      "\n"
     ]
    }
   ],
   "source": [
    "# array indexing\n",
    "print ('x3[0] is \\n', x3[0], '\\n')\n",
    "print ('x3[0, 0] is \\n', x3[0, 0], '\\n')\n",
    "print ('x3[0, 0, 0] is \\n', x3[0, 0, 0], '\\n')"
   ]
  },
  {
   "cell_type": "code",
   "execution_count": 35,
   "metadata": {},
   "outputs": [
    {
     "name": "stdout",
     "output_type": "stream",
     "text": [
      "x is \t [ 0  1  2  3  4  5  6  7  8  9 10] \n",
      "\n",
      "x[:5] is \t [0 1 2 3 4] \n",
      "\n",
      "x[2:5] is \t [2 3 4] \n",
      "\n",
      "x[::2] is \t [ 0  2  4  6  8 10] \n",
      "\n",
      "x[1::2] is \t [1 3 5 7 9] \n",
      "\n",
      "x[::-1] is \t [10  9  8  7  6  5  4  3  2  1  0] \n",
      "\n",
      "x[6::-1] is \t [6 5 4 3 2 1 0] \n",
      "\n",
      "x[6::-2] is \t [6 4 2 0] \n",
      "\n"
     ]
    }
   ],
   "source": [
    "# array slicing: access  subarrays  x[start: stop: step]\n",
    "x  = np.arange(11)    # return array with elements in range [0, 10), step-size = 1 (default)\n",
    "? np.arange\n",
    "\n",
    "print ('x is \\t', x, '\\n')\n",
    "print ('x[:5] is \\t', x[:5], '\\n' )    #  x[:n] = subarray of x with index less than n\n",
    "print ('x[2:5] is \\t', x[2:5], '\\n' )  #  x[m:n] = subarray of x with start-index = m, and end-index <n\n",
    "print ('x[::2] is \\t', x[::2], '\\n' )  #  x[0: x.size: 2]\n",
    "\n",
    "print ('x[1::2] is \\t', x[1::2], '\\n')   #  x[1: x.size: 2]\n",
    "\n",
    "# reverse the array using negative index\n",
    "print ('x[::-1] is \\t', x[::-1], '\\n' )     # reverse the array\n",
    "print ('x[6::-1] is \\t', x[6::-1], '\\n' )      # reverse the subarray with index <=6 in x\n",
    "print ('x[6::-2] is \\t', x[6::-2], '\\n' )      # reverse the subarray with index <=6 in x"
   ]
  },
  {
   "cell_type": "code",
   "execution_count": 211,
   "metadata": {},
   "outputs": [
    {
     "name": "stdout",
     "output_type": "stream",
     "text": [
      "x2 is \n",
      "[[13 15 12 14 17]\n",
      " [16 18 18 11 16]\n",
      " [17 17 18 11 15]] \n",
      "\n",
      "x2 shape is \t(3L, 5L) \t dimension is \t2 \t size is \t15 \n",
      "\n",
      "x2[:2, :3] is \n",
      "[[13 15 12]\n",
      " [16 18 18]] \n",
      "\n",
      "x2[:2, :] is \n",
      "[[13 15 12 14 17]\n",
      " [16 18 18 11 16]] \n",
      "\n",
      "x2[:3, ::2] is \n",
      "[[13 12 17]\n",
      " [16 18 16]\n",
      " [17 18 15]] \n",
      "\n",
      "x2[::-1, ::-2] is \n",
      "[[15 18 17]\n",
      " [16 18 16]\n",
      " [17 12 13]] \n",
      "\n",
      "x2[0] is \t[13 15 12 14 17] \n",
      "\n",
      "x2[0, :] is \t[13 15 12 14 17] \n",
      "\n"
     ]
    }
   ],
   "source": [
    "# slice of  multi-dimensional array\n",
    "print 'x2 is \\n', x2, '\\n'\n",
    "print 'x2 shape is \\t', x2.shape, '\\t dimension is \\t', x2.ndim, '\\t size is \\t', x2.size, '\\n'\n",
    "\n",
    "print 'x2[:2, :3] is \\n', x2[:2, :3], '\\n'\n",
    "print 'x2[:2, :] is \\n', x2[:2, :], '\\n'\n",
    "print 'x2[:3, ::2] is \\n', x2[:3, ::2], '\\n'   # row index is 0,1, 2, and column index is 0,2,4\n",
    "print 'x2[::-1, ::-2] is \\n', x2[::-1,::-2], '\\n'  # reverse sub-array\n",
    "print 'x2[0] is \\t', x2[0], '\\n'\n",
    "print 'x2[0, :] is \\t', x2[0, :], '\\n'"
   ]
  },
  {
   "cell_type": "code",
   "execution_count": 36,
   "metadata": {},
   "outputs": [
    {
     "name": "stdout",
     "output_type": "stream",
     "text": [
      "x2_sub is \n",
      " [[13 15 12]\n",
      " [16 18 18]] \n",
      "\n",
      "x2_sub[0] is \t [13 15 12] \n",
      "\n",
      "x2_sub[0][0] is \t 13 \n",
      "\n",
      "x2_sub[0, 0] is \t 13 \n",
      "\n"
     ]
    },
    {
     "data": {
      "text/plain": [
       "array([[13, 15, 12, 14, 17],\n",
       "       [16, 18, 18, 11, 16],\n",
       "       [17, 17, 18, 11, 15]])"
      ]
     },
     "execution_count": 36,
     "metadata": {},
     "output_type": "execute_result"
    }
   ],
   "source": [
    "x2_sub = x2[:2, :3]\n",
    "print ('x2_sub is \\n', x2_sub, '\\n')\n",
    "print ('x2_sub[0] is \\t', x2_sub[0], '\\n')\n",
    "print ('x2_sub[0][0] is \\t', x2_sub[0][0], '\\n')\n",
    "print ('x2_sub[0, 0] is \\t', x2_sub[0, 0], '\\n')\n",
    "x2"
   ]
  },
  {
   "cell_type": "code",
   "execution_count": 37,
   "metadata": {},
   "outputs": [
    {
     "name": "stdout",
     "output_type": "stream",
     "text": [
      "x2_sub is \n",
      " [[99 15 12]\n",
      " [16 18 18]] \n",
      "\n",
      "x2 is \n",
      " [[99 15 12 14 17]\n",
      " [16 18 18 11 16]\n",
      " [17 17 18 11 15]] \n",
      "\n"
     ]
    }
   ],
   "source": [
    "x2_sub[0, 0 ] = 99\n",
    "print ('x2_sub is \\n', x2_sub, '\\n')\n",
    "print ('x2 is \\n', x2, '\\n')"
   ]
  },
  {
   "cell_type": "code",
   "execution_count": 41,
   "metadata": {},
   "outputs": [
    {
     "name": "stdout",
     "output_type": "stream",
     "text": [
      "x2_sub_copy is \n",
      " [[99 15]\n",
      " [16 18]] \n",
      "\n",
      "x2_sub_copy is \n",
      " [[129  15]\n",
      " [ 16  18]] \n",
      "\n",
      "x2 is \n",
      " [[99 15 12 14 17]\n",
      " [16 18 18 11 16]\n",
      " [17 17 18 11 15]] \n",
      "\n"
     ]
    }
   ],
   "source": [
    "# creating copies of array: copy() method\n",
    "x2_sub_copy = x2[:2, :2].copy()\n",
    "print('x2_sub_copy is \\n', x2_sub_copy, '\\n')\n",
    "\n",
    "x2_sub_copy[0][0] = 129    # change the element in copy of array will not affect the original array\n",
    "print('x2_sub_copy is \\n', x2_sub_copy, '\\n')\n",
    "print('x2 is \\n', x2, '\\n')\n"
   ]
  },
  {
   "cell_type": "code",
   "execution_count": 49,
   "metadata": {},
   "outputs": [
    {
     "data": {
      "text/plain": [
       "array([[1, 2, 3],\n",
       "       [4, 5, 6],\n",
       "       [7, 8, 9]])"
      ]
     },
     "execution_count": 49,
     "metadata": {},
     "output_type": "execute_result"
    }
   ],
   "source": [
    "# reshaping of arrays: reshape()  method\n",
    "# Note: the size of the initial array must match the size of the reshaped array. \n",
    "np.arange(1, 10).reshape(3,3)"
   ]
  },
  {
   "cell_type": "code",
   "execution_count": 73,
   "metadata": {},
   "outputs": [
    {
     "name": "stdout",
     "output_type": "stream",
     "text": [
      "y = x.reshape((1,3)) is \n",
      " [[1 2 3]] \n",
      "\n",
      "y[0] is \t [1 2 3]\n",
      "x is \t [1 2 3] \n",
      "\n",
      "x[0] is \t 1\n",
      "\n",
      "\n",
      "y1 = x[np.newaxis, :] is \n",
      " [[1 2 3]]\n",
      "y1.shape is \t (1, 3)\n"
     ]
    }
   ],
   "source": [
    "x = np.array([1,2, 3])\n",
    "y = x.reshape((1,3))\n",
    "y1 = x[np.newaxis, :]\n",
    "\n",
    "print('y = x.reshape((1,3)) is \\n', y, '\\n')\n",
    "print('y[0] is \\t', y[0])\n",
    "print('x is \\t', x, '\\n')\n",
    "print('x[0] is \\t', x[0])\n",
    "\n",
    "print('\\n')\n",
    "print('y1 = x[np.newaxis, :] is \\n', y1)\n",
    "print('y1.shape is \\t', y1.shape)"
   ]
  },
  {
   "cell_type": "code",
   "execution_count": 71,
   "metadata": {},
   "outputs": [
    {
     "data": {
      "text/plain": [
       "array([[1],\n",
       "       [2],\n",
       "       [3]])"
      ]
     },
     "execution_count": 71,
     "metadata": {},
     "output_type": "execute_result"
    }
   ],
   "source": [
    "x.reshape((3,1))"
   ]
  },
  {
   "cell_type": "code",
   "execution_count": 82,
   "metadata": {},
   "outputs": [
    {
     "data": {
      "text/plain": [
       "array([[[1, 2],\n",
       "        [3, 5]]])"
      ]
     },
     "execution_count": 82,
     "metadata": {},
     "output_type": "execute_result"
    }
   ],
   "source": [
    "np.array([1, 2, 3, 5]).reshape((2,2))[np.newaxis, :]"
   ]
  },
  {
   "cell_type": "code",
   "execution_count": 85,
   "metadata": {},
   "outputs": [
    {
     "data": {
      "text/plain": [
       "array([[[1, 2],\n",
       "        [3, 5]]])"
      ]
     },
     "execution_count": 85,
     "metadata": {},
     "output_type": "execute_result"
    }
   ],
   "source": [
    "np.array([1, 2, 3, 5]).reshape((2,2))[np.newaxis, :, :]"
   ]
  },
  {
   "cell_type": "code",
   "execution_count": 87,
   "metadata": {},
   "outputs": [
    {
     "data": {
      "text/plain": [
       "(2, 1, 2)"
      ]
     },
     "execution_count": 87,
     "metadata": {},
     "output_type": "execute_result"
    }
   ],
   "source": [
    "np.array([1, 2, 3, 5]).reshape((2,2))[:, np.newaxis, :].shape"
   ]
  },
  {
   "cell_type": "code",
   "execution_count": 89,
   "metadata": {},
   "outputs": [
    {
     "data": {
      "text/plain": [
       "(2, 2, 1)"
      ]
     },
     "execution_count": 89,
     "metadata": {},
     "output_type": "execute_result"
    }
   ],
   "source": [
    "np.array([1, 2, 3, 5]).reshape((2,2))[:, :, np.newaxis].shape"
   ]
  },
  {
   "cell_type": "code",
   "execution_count": 4,
   "metadata": {},
   "outputs": [
    {
     "data": {
      "text/plain": [
       "array([1, 2, 3, 4, 5, 6])"
      ]
     },
     "execution_count": 4,
     "metadata": {},
     "output_type": "execute_result"
    }
   ],
   "source": [
    "# concanate array:  np.concatenate, np.vstack, and np.hstack.\n",
    "\n",
    "import numpy as np\n",
    "x = np.array([1, 2, 3])\n",
    "y = np.array([4, 5, 6])\n",
    "np.concatenate([x,y])     # np.concatenate  takes a tuple or list of arrays as its first argument\n",
    " "
   ]
  },
  {
   "cell_type": "code",
   "execution_count": 5,
   "metadata": {},
   "outputs": [
    {
     "data": {
      "text/plain": [
       "array([ 1,  2,  3,  4,  5,  6,  7,  8,  9, 10])"
      ]
     },
     "execution_count": 5,
     "metadata": {},
     "output_type": "execute_result"
    }
   ],
   "source": [
    "z = np.array([7, 8, 9, 10])\n",
    "np.concatenate([x, y, z])"
   ]
  },
  {
   "cell_type": "code",
   "execution_count": 19,
   "metadata": {},
   "outputs": [
    {
     "name": "stdout",
     "output_type": "stream",
     "text": [
      "grid2:  np.concatenate([grid, grid]) \n",
      " [[1 2 3]\n",
      " [4 5 6]\n",
      " [1 2 3]\n",
      " [4 5 6]]\n",
      "grid2.shape is \t (4, 3)\n",
      "grid.shape is \t (2, 3)\n"
     ]
    }
   ],
   "source": [
    "grid = np.array([1, 2, 3, 4, 5, 6]). reshape((2,3))\n",
    "# concatenate along the first axis by default\n",
    "grid2 = np.concatenate([grid, grid])      ## same as np.concatenate([grid, grid], axis = 0)\n",
    "print('grid is \\n', grid)\n",
    "print('grid2:  np.concatenate([grid, grid]) \\n', grid2)\n",
    "print('grid2.shape is \\t',grid2.shape)\n",
    "print('grid.shape is \\t',grid.shape)"
   ]
  },
  {
   "cell_type": "code",
   "execution_count": 20,
   "metadata": {},
   "outputs": [
    {
     "data": {
      "text/plain": [
       "array([[1, 2, 3, 1, 2, 3],\n",
       "       [4, 5, 6, 4, 5, 6]])"
      ]
     },
     "execution_count": 20,
     "metadata": {},
     "output_type": "execute_result"
    }
   ],
   "source": [
    "# # concatenate along the second axis (zero-indexed)\n",
    "np.concatenate([grid, grid], axis=1)"
   ]
  },
  {
   "cell_type": "code",
   "execution_count": 38,
   "metadata": {},
   "outputs": [
    {
     "name": "stdout",
     "output_type": "stream",
     "text": [
      "x_grid_vstack \n",
      " [[1 2 3]\n",
      " [1 2 3]\n",
      " [4 5 6]]\n",
      "grid_hstack \n",
      " [[1 2 3 1 2 3]\n",
      " [4 5 6 4 5 6]]\n"
     ]
    }
   ],
   "source": [
    "\"\"\"\n",
    "For working with arrays of mixed dimensions, it can be clearer to use the np.vstack\n",
    "(vertical stack) and np.hstack (horizontal stack) functions:\n",
    "\"\"\"\n",
    "x_grid_vstack = np.vstack([x, grid])\n",
    "grid_hstack = np.hstack([grid,grid])\n",
    "print('x_grid_vstack \\n', x_grid_vstack)\n",
    "print('grid_hstack \\n', grid_hstack)"
   ]
  },
  {
   "cell_type": "code",
   "execution_count": 59,
   "metadata": {},
   "outputs": [
    {
     "name": "stdout",
     "output_type": "stream",
     "text": [
      "[1 2 3] \t [99 99] \t [3 2 1]\n",
      "\n",
      " np.vsplit results:\n",
      "[[0 1 2 3]\n",
      " [4 5 6 7]] \n",
      "\n",
      " [[ 8  9 10 11]\n",
      " [12 13 14 15]]\n",
      "\n",
      "\n",
      " the np.split(g, [3]) results is:\n",
      "[[ 0  1  2]\n",
      " [ 4  5  6]\n",
      " [ 8  9 10]\n",
      " [12 13 14]] \n",
      "\n",
      "[[ 3]\n",
      " [ 7]\n",
      " [11]\n",
      " [15]]\n"
     ]
    }
   ],
   "source": [
    "## spliting of array:  np.split, np.hsplit, and np.vsplit. \n",
    "x = [1, 2, 3, 99, 99, 3, 2, 1]\n",
    "x1, x2, x3 = np.split(x, [3, 5])     # Notice that N split points lead to N + 1 subarrays. \n",
    "print(x1, '\\t', x2,'\\t', x3)\n",
    "print('\\n np.vsplit results:')\n",
    "g = np.arange(16).reshape(4, 4)\n",
    "upper, lower = np.vsplit(g, [2])\n",
    "print(upper, '\\n\\n' , lower)\n",
    "\n",
    "\n",
    "left, right = np.hsplit(g, [3])\n",
    "print('\\n\\n the np.split(g, [3]) results is:')\n",
    "print(left, '\\n')\n",
    "print(right)"
   ]
  },
  {
   "cell_type": "code",
   "execution_count": 79,
   "metadata": {},
   "outputs": [
    {
     "name": "stdout",
     "output_type": "stream",
     "text": [
      "[[0.5        0.2        0.125      0.16666667 0.125     ]\n",
      " [0.2        0.33333333 0.2        0.11111111 0.2       ]]\n",
      "3.22 ms ± 33.9 µs per loop (mean ± std. dev. of 7 runs, 100 loops each)\n"
     ]
    }
   ],
   "source": [
    "# Computation on NumPy Arrays: Universal Functions\n",
    "# to speedup your calculation\n",
    "small_array = np.random.randint(1, 10, size = (2, 5))\n",
    "big_array = np.random.randint(1, 100, size=1000000)\n",
    "print(1.0 / small_array)\n",
    "%timeit (1.0/big_array)"
   ]
  },
  {
   "cell_type": "code",
   "execution_count": 80,
   "metadata": {},
   "outputs": [
    {
     "data": {
      "text/plain": [
       "array([0.        , 0.5       , 0.66666667, 0.75      , 0.8       ])"
      ]
     },
     "execution_count": 80,
     "metadata": {},
     "output_type": "execute_result"
    }
   ],
   "source": [
    "np.arange(5)/np.arange(1,6)"
   ]
  },
  {
   "cell_type": "code",
   "execution_count": 93,
   "metadata": {},
   "outputs": [
    {
     "name": "stdout",
     "output_type": "stream",
     "text": [
      "x is \n",
      " [[0 1 2 3 4]\n",
      " [5 6 7 8 9]] \n",
      "\n",
      "2**x is \n",
      " [[  1   2   4   8  16]\n",
      " [ 32  64 128 256 512]] \n",
      "\n",
      "x/2 is \n",
      " [[0.  0.5 1.  1.5 2. ]\n",
      " [2.5 3.  3.5 4.  4.5]] \n",
      "\n",
      "x%2 is \n",
      " [[0 1 0 1 0]\n",
      " [1 0 1 0 1]] \n",
      "\n",
      "x**2 is \n",
      " [[ 0  1  4  9 16]\n",
      " [25 36 49 64 81]] \n",
      "\n",
      "-x is \n",
      " [[ 0 -1 -2 -3 -4]\n",
      " [-5 -6 -7 -8 -9]] \n",
      "\n",
      "0.5*x + 2 is \n",
      " [[ 2.   1.5  1.   0.5  0. ]\n",
      " [-0.5 -1.  -1.5 -2.  -2.5]] \n",
      "\n",
      "x + 2 is \n",
      " [[ 2  3  4  5  6]\n",
      " [ 7  8  9 10 11]] \n",
      "\n",
      "np.add(x, 2) is \n",
      " [[ 2  3  4  5  6]\n",
      " [ 7  8  9 10 11]] \n",
      "\n"
     ]
    }
   ],
   "source": [
    "x = np.arange(10).reshape(2,5)\n",
    "print('x is \\n', x, '\\n')\n",
    "print('2**x is \\n', 2**x, '\\n')\n",
    "print('x/2 is \\n', x/2, '\\n')\n",
    "print('x%2 is \\n', x%2, '\\n')\n",
    "print('x**2 is \\n', x**2, '\\n')\n",
    "print('-x is \\n', -x, '\\n')\n",
    "print('0.5*x + 2 is \\n', -0.5*x + 2, '\\n')\n",
    "print('x + 2 is \\n', x + 2, '\\n')\n",
    "print('np.add(x, 2) is \\n', np.add(x, 2), '\\n')"
   ]
  },
  {
   "cell_type": "code",
   "execution_count": null,
   "metadata": {},
   "outputs": [],
   "source": [
    "\"\"\"\n",
    "Arithmetic operators implemented in NumPy\n",
    "Operator Equivalent ufunc               Description\n",
    "+        np.add Addition                     (e.g., 1 + 1 = 2)\n",
    "-        np.subtract Subtraction             (e.g., 3 - 2 = 1)\n",
    "-        np.negative Unary negation          (e.g., -2)\n",
    "*        np.multiply Multiplication          (e.g., 2 * 3 = 6)\n",
    "/        np.divide Division                  (e.g., 3 / 2 = 1.5)\n",
    "//       np.floor_divide Floor division      (e.g., 3 // 2 = 1)\n",
    "**       np.power Exponentiation             (e.g., 2 ** 3 = 8)\n",
    "%        np.mod Modulus/remainder            (e.g., 9 % 4 = 1)\n",
    "abs()    np.absolute() or np.abs()           (e.g., abs(-5) = 5)\n",
    "\"\"\"\n"
   ]
  },
  {
   "cell_type": "code",
   "execution_count": 107,
   "metadata": {},
   "outputs": [
    {
     "name": "stdout",
     "output_type": "stream",
     "text": [
      "theta = \t\t [0.         1.57079633 3.14159265]\n",
      "np.sin(theta) = \t [0.0000000e+00 1.0000000e+00 1.2246468e-16]\n",
      "np.cos(theta) = \t [ 1.000000e+00  6.123234e-17 -1.000000e+00]\n",
      "np.tan(theta) = \t [ 0.00000000e+00  1.63312394e+16 -1.22464680e-16] \n",
      "\n",
      "\n",
      " x = \t\t [-1, 0, 1]\n",
      "np.arcsin(x) = \t [-1.57079633  0.          1.57079633]\n",
      "np.arccos(x) = \t [3.14159265 1.57079633 0.        ]\n",
      "np.arctan(x) = \t [-0.78539816  0.          0.78539816]\n"
     ]
    }
   ],
   "source": [
    "theta = np.linspace(0, np.pi, 3)\n",
    "print(\"theta = \\t\\t\", theta)\n",
    "print('np.sin(theta) = \\t', np.sin(theta))\n",
    "print('np.cos(theta) = \\t', np.cos(theta))\n",
    "print('np.tan(theta) = \\t', np.tan(theta), '\\n')\n",
    "\n",
    "x = [-1, 0, 1]\n",
    "print('\\n x = \\t\\t', x)\n",
    "print('np.arcsin(x) = \\t', np.arcsin(x))\n",
    "print('np.arccos(x) = \\t', np.arccos(x))\n",
    "print('np.arctan(x) = \\t', np.arctan(x))"
   ]
  },
  {
   "cell_type": "code",
   "execution_count": 112,
   "metadata": {},
   "outputs": [
    {
     "name": "stdout",
     "output_type": "stream",
     "text": [
      "x = \t\t [1, 2, 3]\n",
      "e^x = \t [ 2.71828183  7.3890561  20.08553692]\n",
      "2^x = \t [2. 4. 8.]\n",
      "3^x = \t [ 3  9 27] \n",
      "\n",
      "x = \t\t [1, 2, 4, 10]\n",
      "np.log(x) = \t [0.         0.69314718 1.38629436 2.30258509]\n",
      "np.log2(x) = \t [0.         1.         2.         3.32192809]\n",
      "np.log10(x) = \t [0.         0.30103    0.60205999 1.        ] \n",
      "\n",
      "x = \t\t [0, 0.001, 0.01, 0.1]\n",
      "exp(x) - 1 = \t [0.         0.0010005  0.01005017 0.10517092]\n",
      "log(1+x) = \t [0.         0.0009995  0.00995033 0.09531018]\n",
      "exp(x)  = \t [1.         1.0010005  1.01005017 1.10517092]\n",
      "log(x) = \t [       -inf -6.90775528 -4.60517019 -2.30258509]\n"
     ]
    },
    {
     "name": "stderr",
     "output_type": "stream",
     "text": [
      "c:\\python37\\lib\\site-packages\\ipykernel_launcher.py:24: RuntimeWarning: divide by zero encountered in log\n"
     ]
    }
   ],
   "source": [
    "# exponential operation\n",
    "\n",
    "x = [1, 2, 3]\n",
    "print('x = \\t\\t', x )\n",
    "print('e^x = \\t', np.exp(x))\n",
    "print('2^x = \\t', np.exp2(x))\n",
    "print('3^x = \\t', np.power(3, x), '\\n')\n",
    "\n",
    "## log operation\n",
    "x = [1, 2, 4, 10]\n",
    "print('x = \\t\\t', x)\n",
    "print('np.log(x) = \\t', np.log(x))   # ln(x) \n",
    "print('np.log2(x) = \\t', np.log2(x))\n",
    "print('np.log10(x) = \\t', np.log10(x), '\\n')\n",
    "\n",
    "\n",
    "## when x is very small, np.expm1(x) and np.log1p(x) than np.exp(x) and np.log(x)\n",
    "\n",
    "x = [0, 0.001, 0.01, 0.1]\n",
    "print('x = \\t\\t', x)\n",
    "print('exp(x) - 1 = \\t', np.expm1(x))\n",
    "print('log(1+x) = \\t', np.log1p(x))\n",
    "print('exp(x)  = \\t', np.exp(x))\n",
    "print('log(x) = \\t', np.log(x))"
   ]
  },
  {
   "cell_type": "code",
   "execution_count": 119,
   "metadata": {},
   "outputs": [
    {
     "data": {
      "text/plain": [
       "array([1.00e+00, 2.40e+01, 5.04e+03])"
      ]
     },
     "execution_count": 119,
     "metadata": {},
     "output_type": "execute_result"
    }
   ],
   "source": [
    "## special functions in numpy\n",
    "from scipy import special\n",
    "x = [1, 5, 8]\n",
    "special.gamma(x)"
   ]
  },
  {
   "cell_type": "code",
   "execution_count": 121,
   "metadata": {},
   "outputs": [
    {
     "data": {
      "text/plain": [
       "array([0.        , 3.17805383, 8.52516136])"
      ]
     },
     "execution_count": 121,
     "metadata": {},
     "output_type": "execute_result"
    }
   ],
   "source": [
    "special.gammaln(x)   # = ln(|gamma(x)|)"
   ]
  },
  {
   "cell_type": "code",
   "execution_count": 116,
   "metadata": {},
   "outputs": [
    {
     "data": {
      "text/plain": [
       "array([0.5       , 0.03333333, 0.01388889])"
      ]
     },
     "execution_count": 116,
     "metadata": {},
     "output_type": "execute_result"
    }
   ],
   "source": [
    "special.beta(x, 2)"
   ]
  },
  {
   "cell_type": "code",
   "execution_count": 123,
   "metadata": {},
   "outputs": [
    {
     "data": {
      "text/plain": [
       "array([ 0., 10., 20., 30., 40.])"
      ]
     },
     "execution_count": 123,
     "metadata": {},
     "output_type": "execute_result"
    }
   ],
   "source": [
    "x = np.arange(5)\n",
    "y = np.empty(x.size)\n",
    "np.multiply(x, 10, out = y)   ## calculate x*10 and save results to y  (but need much less memory storage than y = x*10)"
   ]
  },
  {
   "cell_type": "code",
   "execution_count": 126,
   "metadata": {},
   "outputs": [
    {
     "name": "stdout",
     "output_type": "stream",
     "text": [
      "[ 1.  0.  2.  0.  4.  0.  8.  0. 16.  0.]\n"
     ]
    }
   ],
   "source": [
    "y = np.zeros(10)\n",
    "np.power(2, x, out = y[::2])\n",
    "print(y)"
   ]
  },
  {
   "cell_type": "code",
   "execution_count": 140,
   "metadata": {},
   "outputs": [
    {
     "name": "stdout",
     "output_type": "stream",
     "text": [
      "np.add.reduce(x) = \t 15\n",
      "np.add.accumulate(x) = \t [ 1  3  6 10 15]\n",
      "np.multiply.reduce(x) = \t 120\n",
      "np.multiply.accumulate(x) = \t [  1   2   6  24 120]\n",
      "np.multiply.outer(x, x) = \n",
      " [[ 1  2  3  4  5]\n",
      " [ 2  4  6  8 10]\n",
      " [ 3  6  9 12 15]\n",
      " [ 4  8 12 16 20]\n",
      " [ 5 10 15 20 25]]\n"
     ]
    }
   ],
   "source": [
    "## aggregate values in numpy array\n",
    "x = np.arange(1, 6)    ## array([1, 2, 3, 4, 5])\n",
    "print('np.add.reduce(x) = \\t', np.add.reduce(x))\n",
    "print('np.add.accumulate(x) = \\t', np.add.accumulate(x))\n",
    "print('np.multiply.reduce(x) = \\t', np.multiply.reduce(x))\n",
    "print('np.multiply.accumulate(x) = \\t', np.multiply.accumulate(x))\n",
    "print('np.multiply.outer(x, x) = \\n', np.multiply.outer(x, x))"
   ]
  },
  {
   "cell_type": "code",
   "execution_count": 141,
   "metadata": {},
   "outputs": [
    {
     "data": {
      "text/plain": [
       "15"
      ]
     },
     "execution_count": 141,
     "metadata": {},
     "output_type": "execute_result"
    }
   ],
   "source": [
    "np.sum(x)"
   ]
  },
  {
   "cell_type": "code",
   "execution_count": 147,
   "metadata": {},
   "outputs": [
    {
     "name": "stdout",
     "output_type": "stream",
     "text": [
      "98.6 ms ± 7.95 ms per loop (mean ± std. dev. of 7 runs, 10 loops each)\n",
      "1.22 ms ± 36.1 µs per loop (mean ± std. dev. of 7 runs, 1000 loops each)\n"
     ]
    }
   ],
   "source": [
    "big_array = np.random.rand(1000000)\n",
    "%timeit sum(big_array)\n",
    "%timeit np.sum(big_array)"
   ]
  },
  {
   "cell_type": "code",
   "execution_count": 148,
   "metadata": {},
   "outputs": [
    {
     "name": "stdout",
     "output_type": "stream",
     "text": [
      "67.3 ms ± 3.15 ms per loop (mean ± std. dev. of 7 runs, 10 loops each)\n",
      "451 µs ± 20.7 µs per loop (mean ± std. dev. of 7 runs, 1000 loops each)\n"
     ]
    }
   ],
   "source": [
    "%timeit min(big_array)\n",
    "%timeit np.min(big_array)"
   ]
  },
  {
   "cell_type": "code",
   "execution_count": 151,
   "metadata": {},
   "outputs": [
    {
     "name": "stdout",
     "output_type": "stream",
     "text": [
      "68.3 ms ± 3.86 ms per loop (mean ± std. dev. of 7 runs, 10 loops each)\n",
      "427 µs ± 5.37 µs per loop (mean ± std. dev. of 7 runs, 1000 loops each)\n",
      "435 µs ± 12.3 µs per loop (mean ± std. dev. of 7 runs, 1000 loops each)\n",
      "424 µs ± 5.78 µs per loop (mean ± std. dev. of 7 runs, 1000 loops each)\n"
     ]
    }
   ],
   "source": [
    "%timeit max(big_array)\n",
    "%timeit np.max(big_array)\n",
    "%timeit big_array.min()\n",
    "%timeit big_array.max()"
   ]
  },
  {
   "cell_type": "code",
   "execution_count": 161,
   "metadata": {},
   "outputs": [
    {
     "name": "stdout",
     "output_type": "stream",
     "text": [
      "x = \n",
      " [[3 3 3 7]\n",
      " [7 2 1 6]\n",
      " [3 4 8 5]] \n",
      "\n",
      "x.sum() = \t 52\n",
      "x.sum(axis = 0) = \t [13  9 12 18]\n",
      "x.min() = \t 1\n",
      "x.min(axis = 1) = \t [3 1 3]\n",
      "x.max(axis = 1) =  [7 7 8]\n"
     ]
    }
   ],
   "source": [
    "x= np.random.randint(1, 9, size = (3, 4))\n",
    "print('x = \\n', x, '\\n')\n",
    "\n",
    "print('x.sum() = \\t', x.sum())\n",
    "print('x.sum(axis = 0) = \\t', x.sum(axis =0))   ## sum along axis = 0, means sum the values in each column\n",
    "\n",
    "print('x.min() = \\t', x.min())\n",
    "print('x.min(axis = 1) = \\t', x.min(axis = 1))\n",
    "\n",
    "print('x.max(axis = 1) = ', x.max(axis = 1))"
   ]
  },
  {
   "cell_type": "code",
   "execution_count": 154,
   "metadata": {},
   "outputs": [
    {
     "data": {
      "text/plain": [
       "array([[8, 6, 5, 3],\n",
       "       [7, 3, 5, 7],\n",
       "       [2, 8, 5, 4]])"
      ]
     },
     "execution_count": 154,
     "metadata": {},
     "output_type": "execute_result"
    }
   ],
   "source": [
    "\"\"\"\n",
    "Function Name      NaN-safe Version          Description\n",
    "np.sum             np.nansum                 Compute sum of elements\n",
    "np.prod            np.nanprod                Compute product of elements\n",
    "np.mean            np.nanmean                Compute median of elements\n",
    "np.std             np.nanstd                 Compute standard deviation\n",
    "np.var             np.nanvar                 Compute variance\n",
    "np.min             np.nanmin                 Find minimum value\n",
    "np.max             np.nanmax                 Find maximum value\n",
    "np.argmin          np.nanargmin              Find index of minimum value\n",
    "np.argmax          np.nanargmax              Find index of maximum value\n",
    "np.median          np.nanmedian              Compute median of elements\n",
    "np.percentile      np.nanpercentile          Compute rank-based statistics of elements\n",
    "np.any             N/A                       Evaluate whether any elements are true\n",
    "np.all             N/A                      Evaluate whether all elements are true\n",
    "\"\"\""
   ]
  },
  {
   "cell_type": "code",
   "execution_count": null,
   "metadata": {},
   "outputs": [],
   "source": []
  },
  {
   "cell_type": "code",
   "execution_count": null,
   "metadata": {},
   "outputs": [],
   "source": []
  }
 ],
 "metadata": {
  "kernelspec": {
   "display_name": "Python 3",
   "language": "python",
   "name": "python3"
  },
  "language_info": {
   "codemirror_mode": {
    "name": "ipython",
    "version": 3
   },
   "file_extension": ".py",
   "mimetype": "text/x-python",
   "name": "python",
   "nbconvert_exporter": "python",
   "pygments_lexer": "ipython3",
   "version": "3.7.2"
  }
 },
 "nbformat": 4,
 "nbformat_minor": 2
}
