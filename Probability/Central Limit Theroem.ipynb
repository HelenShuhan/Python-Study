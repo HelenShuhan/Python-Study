{
 "cells": [
  {
   "cell_type": "markdown",
   "metadata": {},
   "source": [
    "# Central Limit Theroem\n",
    "\n",
    "suppose x follows some distribution, with mean = u, var_x,\n",
    "then X1 = mean(x) of sample size N   follows normal distribution with mean = u, var = var_x /N\n",
    "     X2 = sum(x) of sample size N    follows normal distribution with mean = u*N, var = var_x * N"
   ]
  },
  {
   "cell_type": "markdown",
   "metadata": {},
   "source": [
    "If you are being asked to find the probability of the mean, use the clt for the mean. If you are being asked to find the probability of a sum or total, use the clt for sums. This also applies to percentiles for means and sums.\n",
    " \n",
    "https://courses.lumenlearning.com/introstats1/chapter/using-the-central-limit-theorem/\n",
    "http://mathworld.wolfram.com/CentralLimitTheorem.html\n",
    "https://www.methodsconsultants.com/tutorial/the-central-limit-theorem-and-its-implications-for-statistical-inference/"
   ]
  },
  {
   "cell_type": "markdown",
   "metadata": {},
   "source": [
    "# Law of Large Numbers\n",
    "The law of large numbers says that if you take samples of larger and larger size from any population, then the mean \n",
    "must be close to the population mean μ. We can say that μ is the value that the sample means approach as n gets larger. The central limit theorem illustrates the law of large numbers."
   ]
  },
  {
   "cell_type": "code",
   "execution_count": null,
   "metadata": {},
   "outputs": [],
   "source": []
  },
  {
   "cell_type": "markdown",
   "metadata": {},
   "source": [
    "Question 1:\n",
    "\n",
    "Suppose that a market research analyst for a cell phone company conducts a study of their customers who exceed the time allowance included on their basic cell phone contract; the analyst finds that for those people who exceed the time included in their basic contract, the excess time used follows an exponential distribution with a mean of 22 minutes.\n",
    "\n",
    "1) Using the clt to find probability. Find the probability that the mean excess time used by the 80 customers in the sample is longer than 20 minutes. Draw the graph.\n",
    "\n",
    "2) Using the clt to find probability. Suppose that one customer who exceeds the time limit for his cell phone contract is randomly selected. Find the probability that this individual customer’s excess time is longer than 20 minutes. This is asking us to find P(x > 20).\n",
    "\n",
    "3) Using the clt to find probability. Explain why the probabilities in parts 1 and 2 are different.\n",
    "\n",
    "4) Using the clt to find percentiles. Find the 95th percentile for the sample mean excess time for samples of 80 customers who exceed their basic contract time allowances. Draw a graph."
   ]
  },
  {
   "cell_type": "code",
   "execution_count": 9,
   "metadata": {},
   "outputs": [
    {
     "name": "stdout",
     "output_type": "stream",
     "text": [
      "0.7919241165068476\n",
      "1.0\n",
      "26.045804975190627\n"
     ]
    }
   ],
   "source": [
    "# Solutions to this question\n",
    "# let X = the excess time used by one INDIVIDUAL cell phone customer who exceeds his contracted time allowance.\n",
    "# X ~ Exp(1/22)    # u = 22, var = 22^2, std = 22\n",
    "\n",
    "# According to Central Limit Theorem, X_bar = mean exvess time used by 80 customers   ~ norm(u, var/N)\n",
    "\n",
    "\n",
    "# ---------------------------------   solution to 1): P(X_bar >20)\n",
    "from scipy.stats import norm\n",
    "import numpy as np\n",
    "\n",
    "N = 80\n",
    "print(1 - norm.cdf(20, loc = 22, scale = 22/np.sqrt(N)))\n",
    "\n",
    "# ---------------------------------   solution to 2): P(X>20)\n",
    "from scipy.stats import expon\n",
    "print(1 - expon.cdf(20, loc = 22, scale = 22))\n",
    "\n",
    "# ---------------------------------   solution to 4)\n",
    "print(norm.ppf(0.95, loc = 22, scale = 22/np.sqrt(N)))"
   ]
  },
  {
   "cell_type": "code",
   "execution_count": 12,
   "metadata": {},
   "outputs": [
    {
     "name": "stdout",
     "output_type": "stream",
     "text": [
      "0.0\n"
     ]
    }
   ],
   "source": [
    "## the probability that sum of excess time used by the 80 customers in the sample is longer than 3,000 minutes.\n",
    "N = 80\n",
    "print(1 - norm.cdf(3000, loc = N*22, scale = 22*np.sqrt(22)))"
   ]
  },
  {
   "cell_type": "code",
   "execution_count": 4,
   "metadata": {},
   "outputs": [
    {
     "data": {
      "text/plain": [
       "0.0"
      ]
     },
     "execution_count": 4,
     "metadata": {},
     "output_type": "execute_result"
    }
   ],
   "source": [
    "expon.cdf(20, loc = 22, scale = 22)"
   ]
  },
  {
   "cell_type": "code",
   "execution_count": 5,
   "metadata": {},
   "outputs": [
    {
     "data": {
      "text/plain": [
       "0.0"
      ]
     },
     "execution_count": 5,
     "metadata": {},
     "output_type": "execute_result"
    }
   ],
   "source": [
    "expon.cdf(22, loc = 22, scale = 22)"
   ]
  },
  {
   "cell_type": "code",
   "execution_count": 7,
   "metadata": {},
   "outputs": [
    {
     "data": {
      "text/plain": [
       "0.6321205588285577"
      ]
     },
     "execution_count": 7,
     "metadata": {},
     "output_type": "execute_result"
    }
   ],
   "source": [
    "expon.cdf(44, loc = 22, scale = 22)"
   ]
  },
  {
   "cell_type": "code",
   "execution_count": null,
   "metadata": {},
   "outputs": [],
   "source": []
  }
 ],
 "metadata": {
  "kernelspec": {
   "display_name": "Python 3",
   "language": "python",
   "name": "python3"
  },
  "language_info": {
   "codemirror_mode": {
    "name": "ipython",
    "version": 3
   },
   "file_extension": ".py",
   "mimetype": "text/x-python",
   "name": "python",
   "nbconvert_exporter": "python",
   "pygments_lexer": "ipython3",
   "version": "3.7.2"
  }
 },
 "nbformat": 4,
 "nbformat_minor": 2
}
